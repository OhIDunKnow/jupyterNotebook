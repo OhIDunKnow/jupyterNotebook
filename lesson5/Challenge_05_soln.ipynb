{
 "cells": [
  {
   "cell_type": "markdown",
   "metadata": {},
   "source": [
    "# Coding Challenge: Leo's Art and his Quotes (Solution)"
   ]
  },
  {
   "cell_type": "markdown",
   "metadata": {},
   "source": [
    "Test your understanding of File Input and Output with Leo's work.\n",
    "\n",
    "Answer the questions by completing the code in the associated code cell. The ?? symbol in the code cell are placeholders, replace them with the correct code. Execute the Check Answers code cell to check your answers. When all your answers are correct, you will get a flag."
   ]
  },
  {
   "cell_type": "markdown",
   "metadata": {},
   "source": [
    "### Question 01\n",
    "Leo has his collection of art named `artcollection` stored in his `bookshelf` and he wants to view them, assigning `view` with the file object, print the arts in `artcollection`."
   ]
  },
  {
   "cell_type": "code",
   "execution_count": 5,
   "metadata": {
    "tags": []
   },
   "outputs": [
    {
     "output_type": "stream",
     "name": "stdout",
     "text": "____\n        o8%8888,\n      o88%8888888.\n     8'-    -:8888b\n    8'         8888\n   d8.-=. ,==-.:888b\n   >8 `~` :`~' d8888\n   88         ,88888\n   88b. `-~  ':88888\n   888b ~==~ .:88888\n   88888o--:':::8888\n   `88888| :::' 8888b\n   8888^^'       8888b\n  d888           ,%888b.\n d88%            %%%8--'-.\n/88:.__ ,       _%-' ---  -\n    '''::===..-'   =  --.\nMona Lisa\n\n+------+.      +------+       +------+       +------+      .+------+\n|`.    | `.    |\\     |\\      |      |      /|     /|    .' |    .'|\n|  `+--+---+   | +----+-+     +------+     +-+----+ |   +---+--+'  |\n|   |  |   |   | |    | |     |      |     | |    | |   |   |  |   |\n+---+--+.  |   +-+----+ |     +------+     | +----+-+   |  .+--+---+\n `. |    `.|    \\|     \\|     |      |     |/     |/    |.'    | .'\n   `+------+     +------+     +------+     +------+     +------+'\nCube Geometry\n\n\n"
    }
   ],
   "source": [
    "with open('bookshelf/artcollection') as view:\n",
    "    print(view.read())"
   ]
  },
  {
   "cell_type": "markdown",
   "metadata": {},
   "source": [
    "### Question 02\n",
    "Leo has a `picture` with him that he wish to add into his art collection, create the file object variable `add` to add the picture and `view` to view `artcollection`."
   ]
  },
  {
   "cell_type": "code",
   "execution_count": 34,
   "metadata": {
    "tags": []
   },
   "outputs": [
    {
     "output_type": "stream",
     "name": "stdout",
     "text": "____\n        o8%8888,\n      o88%8888888.\n     8'-    -:8888b\n    8'         8888\n   d8.-=. ,==-.:888b\n   >8 `~` :`~' d8888\n   88         ,88888\n   88b. `-~  ':88888\n   888b ~==~ .:88888\n   88888o--:':::8888\n   `88888| :::' 8888b\n   8888^^'       8888b\n  d888           ,%888b.\n d88%            %%%8--'-.\n/88:.__ ,       _%-' ---  -\n    '''::===..-'   =  --.\nMona Lisa\n\n+------+.      +------+       +------+       +------+      .+------+\n|`.    | `.    |\\     |\\      |      |      /|     /|    .' |    .'|\n|  `+--+---+   | +----+-+     +------+     +-+----+ |   +---+--+'  |\n|   |  |   |   | |    | |     |      |     | |    | |   |   |  |   |\n+---+--+.  |   +-+----+ |     +------+     | +----+-+   |  .+--+---+\n `. |    `.|    \\|     \\|     |      |     |/     |/    |.'    | .'\n   `+------+     +------+     +------+     +------+     +------+'\nCube Geometry\n\n _______________________________________________________________________\n|       (_      (_      (_      (_      (_      (_      (_      (_      |\n|        _)      _)      _)      _)      _)      _)      _)      _)     |\n|  _   _(  _   _(  _   _(  _   _(  _   _(  _   _(  _   _(  _   _(  _   _|\n|_| |_| |_| |_| |_| |_| |_| |_| |_| |_| |_| |_| |_| |_| |_| |_| |_| |_| |\n|      _)      _)      _)      _)      _)      _)      _)      _)       |\n|     (_      (_      (_      (_      (_      (_      (_      (_        |\n|_   _  )_   _  )_   _  )_   _  )_   _  )_   _  )_   _  )_   _  )_   _  |\n| |_| |_| |_| |_| |_| |_| |_| |_| |_| |_| |_| |_| |_| |_| |_| |_| |_| |_|\n|       (_      (_      (_      (_      (_      (_      (_      (_      |\n|        _)      _)      _)      _)      _)      _)      _)      _)     |\n|  _   _(  _   _(  _   _(  _   _(  _   _(  _   _(  _   _(  _   _(  _   _|\n|_| |_| |_| |_| |_| |_| |_| |_| |_| |_| |_| |_| |_| |_| |_| |_| |_| |_| |\n|      _)      _)      _)      _)      _)      _)      _)      _)       |\n|     (_      (_      (_      (_      (_      (_      (_      (_        |\n|_   _  )_   _  )_   _  )_   _  )_   _  )_   _  )_   _  )_   _  )_   _  |\n| |_| |_| |_| |_| |_| |_| |_| |_| |_| |_| |_| |_| |_| |_| |_| |_| |_| |_|\n|       (_      (_      (_      (_      (_      (_      (_      (_      |\n|        _)      _)      _)      _)      _)      _)      _)      _)     |\n|_______(_______(_______(_______(_______(_______(_______(_______(_______|\nJigsaw\n\n\n\n"
    }
   ],
   "source": [
    "with open('bookshelf/artcollection', 'a') as add:\n",
    "    with open('picture') as view:\n",
    "        add.write(view.read())\n",
    "\n",
    "with open('bookshelf/artcollection') as view:\n",
    "    print(view.read())"
   ]
  },
  {
   "cell_type": "markdown",
   "metadata": {},
   "source": [
    "### Question 03\n",
    "Leo has a list of quotes in `quotes`, using the readlines function, print the 5th quote. "
   ]
  },
  {
   "cell_type": "code",
   "execution_count": 6,
   "metadata": {
    "tags": []
   },
   "outputs": [
    {
     "output_type": "stream",
     "name": "stdout",
     "text": "Water is the driving force of all nature.\n\n"
    }
   ],
   "source": [
    "with open('quotes') as quote:\n",
    "    print(quote.readlines()[4])"
   ]
  },
  {
   "cell_type": "markdown",
   "metadata": {},
   "source": [
    "### Question 04\n",
    "Leo went to read a passage about himself and there is a quote of 48 characters written from him at the 237th character of the `passage`. Using the seek and read functions, print the quote from `passage`. "
   ]
  },
  {
   "cell_type": "code",
   "execution_count": 36,
   "metadata": {
    "tags": []
   },
   "outputs": [
    {
     "output_type": "stream",
     "name": "stdout",
     "text": "\"Let no one read me who is not a mathematician.\"\n"
    }
   ],
   "source": [
    "with open('passage') as view:\n",
    "    view.seek(237)\n",
    "    print(view.read(48))"
   ]
  },
  {
   "cell_type": "markdown",
   "metadata": {},
   "source": [
    "### Question 05\n",
    "It is hard to read the one line `passage`, complete the code that will assign the contents of `passage` to `fixedText` with a newline added after every 10 characters. Add each of the word into `words`, use the loop to add the newline and print `fixedText`."
   ]
  },
  {
   "cell_type": "code",
   "execution_count": 37,
   "metadata": {
    "tags": []
   },
   "outputs": [
    {
     "output_type": "stream",
     "name": "stdout",
     "text": "The importance of mathematics cannot be understated when discussing Leonardo's \nlater work, and he seems obsessed with these issues; while \nworking on Mona Lisa, for example, Leonardo was reported to \nbe concentrating on geometry, stating: \"Let no one read me \nwho is not a mathematician.\" \n"
    }
   ],
   "source": [
    "fixedText = \"\"\n",
    "counter = 0\n",
    "words = \"\"\n",
    "with open('passage') as view:\n",
    "    words = view.read().split()\n",
    "\n",
    "# Adding the newline\n",
    "for word in words:\n",
    "    if counter == 10:\n",
    "        fixedText += '\\n'\n",
    "        counter = 0\n",
    "    fixedText += word + ' '\n",
    "    counter += 1\n",
    "print (fixedText)"
   ]
  },
  {
   "cell_type": "markdown",
   "metadata": {},
   "source": [
    "### Question 06\n",
    "Deciding to count the number of unique words in `passage`, remove the punctuations in it excluding apostrophe and add the words as the keys and their number of occurrence as the values into dictionary `wordCount`. The `no_punct` variable is to contain the passage with its punctuations removed and `words` variable to store the words in it."
   ]
  },
  {
   "cell_type": "code",
   "execution_count": 38,
   "metadata": {
    "tags": []
   },
   "outputs": [
    {
     "output_type": "stream",
     "name": "stdout",
     "text": "Word: The , 1\nWord: importance , 1\nWord: of , 1\nWord: mathematics , 1\nWord: cannot , 1\nWord: be , 2\nWord: understated , 1\nWord: when , 1\nWord: discussing , 1\nWord: Leonardo's , 1\nWord: later , 1\nWord: work , 1\nWord: and , 1\nWord: he , 1\nWord: seems , 1\nWord: obsessed , 1\nWord: with , 1\nWord: these , 1\nWord: issues , 1\nWord: while , 1\nWord: working , 1\nWord: on , 2\nWord: Mona , 1\nWord: Lisa , 1\nWord: for , 1\nWord: example , 1\nWord: Leonardo , 1\nWord: was , 1\nWord: reported , 1\nWord: to , 1\nWord: concentrating , 1\nWord: geometry , 1\nWord: stating , 1\nWord: Let , 1\nWord: no , 1\nWord: one , 1\nWord: read , 1\nWord: me , 1\nWord: who , 1\nWord: is , 1\nWord: not , 1\nWord: a , 1\nWord: mathematician , 1\n"
    }
   ],
   "source": [
    "punctuations = ',.;:\"'\n",
    "wordCount = {}\n",
    "no_punct = ''\n",
    "\n",
    "# Removing the punctuation\n",
    "with open('passage') as my_str:\n",
    "    for char in my_str.read():\n",
    "       if char not in punctuations:\n",
    "           no_punct += char\n",
    "words = no_punct.split()\n",
    "\n",
    "# Adding the words and their occurrence into wordCount dictionary\n",
    "for word in words:\n",
    "    if word in wordCount:\n",
    "        wordCount[word] += 1\n",
    "    else:\n",
    "        wordCount[word] = 1\n",
    "\n",
    "# Printing the word occurrence in wordCount\n",
    "for x, y in wordCount.items():\n",
    "    print(\"Word:\", x, \",\", y)"
   ]
  },
  {
   "cell_type": "markdown",
   "metadata": {},
   "source": [
    "### Question 07\n",
    "Leo has another quote in his mind but he does not have anymore papers to write on and he wants to change the first letter of each word to upper case. Writing the quote to `memoryQuote`, assign the changed quote to `upperQuote` and use it to overwrite `memoryQuote`. Print the changed quote in `memoryQuote` at the end."
   ]
  },
  {
   "cell_type": "code",
   "execution_count": 22,
   "metadata": {
    "tags": []
   },
   "outputs": [
    {
     "output_type": "stream",
     "name": "stdout",
     "text": "Simplicity Is The Ultimate Sophistication.\n"
    }
   ],
   "source": [
    "import io\n",
    "import string\n",
    "\n",
    "# Writing quote to memoryQuote\n",
    "memoryQuote = io.StringIO()\n",
    "memoryQuote.write(\"Simplicity is the ultimate sophistication.\")\n",
    "\n",
    "# Converting first letter of each word to upper case\n",
    "memoryQuote.seek(0)\n",
    "upperQuote = string.capwords(memoryQuote.read())\n",
    "\n",
    "# Overwrite memoryQuote with upperQuote\n",
    "memoryQuote.seek(0)\n",
    "memoryQuote.write(upperQuote)\n",
    "\n",
    "# Printing the changed quote\n",
    "memoryQuote.seek(0)\n",
    "print(memoryQuote.read())"
   ]
  },
  {
   "cell_type": "markdown",
   "metadata": {},
   "source": [
    "# Check Answers\n",
    "**Save your notebook** and run the following cell to check your answers."
   ]
  }
 ],
 "metadata": {
  "language_info": {
   "codemirror_mode": {
    "name": "ipython",
    "version": 3
   },
   "file_extension": ".py",
   "mimetype": "text/x-python",
   "name": "python",
   "nbconvert_exporter": "python",
   "pygments_lexer": "ipython3",
   "version": "3.7.4-final"
  },
  "orig_nbformat": 2,
  "kernelspec": {
   "name": "python37432bit1443a571e2a44011aea9ca428963ae61",
   "display_name": "Python 3.7.4 32-bit"
  }
 },
 "nbformat": 4,
 "nbformat_minor": 2
}