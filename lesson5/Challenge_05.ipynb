{
 "cells": [
  {
   "cell_type": "markdown",
   "metadata": {},
   "source": [
    "# Coding Challenge: Leo's Art and his Quotes"
   ]
  },
  {
   "cell_type": "markdown",
   "metadata": {},
   "source": [
    "Test your understanding of File Input and Output with Leo's work.\n",
    "\n",
    "Answer the questions by completing the code in the associated code cell. The ?? symbol in the code cell are placeholders, replace them with the correct code. Execute the Check Answers code cell to check your answers. When all your answers are correct, you will get a flag."
   ]
  },
  {
   "cell_type": "markdown",
   "metadata": {},
   "source": [
    "### Question 01\n",
    "Leo has his collection of art named `artcollection` stored in his `bookshelf` and he wants to view them, assigning `view` with the file object, print the arts in `artcollection`."
   ]
  },
  {
   "cell_type": "code",
   "execution_count": null,
   "metadata": {},
   "outputs": [],
   "source": [
    "with open(??) as view:\n",
    "    print(view.read())"
   ]
  },
  {
   "cell_type": "markdown",
   "metadata": {},
   "source": [
    "### Question 02\n",
    "Leo has a `picture` with him that he wish to add into his art collection, create the file object variable `add` to add the picture and `view` to view `artcollection`."
   ]
  },
  {
   "cell_type": "code",
   "execution_count": null,
   "metadata": {},
   "outputs": [],
   "source": [
    "with open(??, ??) as add:\n",
    "    with open(??) as view:\n",
    "        add.write(view.read())\n",
    "\n",
    "with open(??) as view:\n",
    "    print(view.read())"
   ]
  },
  {
   "cell_type": "markdown",
   "metadata": {},
   "source": [
    "### Question 03\n",
    "Leo has a list of quotes in `quotes`, using the readlines function, print the 5th quote. "
   ]
  },
  {
   "cell_type": "code",
   "execution_count": null,
   "metadata": {},
   "outputs": [],
   "source": [
    "with open(??) as quote:\n",
    "    print(quote.??)"
   ]
  },
  {
   "cell_type": "markdown",
   "metadata": {},
   "source": [
    "### Question 04\n",
    "Leo went to read a passage about himself and there is a quote of 48 characters written from him at the 237th character of the `passage`. Using the seek and read functions, print the quote from `passage`. "
   ]
  },
  {
   "cell_type": "code",
   "execution_count": null,
   "metadata": {},
   "outputs": [],
   "source": [
    "with open('passage') as view:\n",
    "    view.seek(??)\n",
    "    print(view.read(??))"
   ]
  },
  {
   "cell_type": "markdown",
   "metadata": {},
   "source": [
    "### Question 05\n",
    "It is hard to read the one line `passage`, complete the code that will assign the contents of `passage` to `fixedText` with a newline added after every 10 characters. Add each of the word into `words`, use the loop to add the newline and print `fixedText`."
   ]
  },
  {
   "cell_type": "code",
   "execution_count": 5,
   "metadata": {
    "tags": []
   },
   "outputs": [
    {
     "output_type": "stream",
     "name": "stdout",
     "text": "The importance of mathematics cannot be understated when discussing Leonardo's \nlater work, and he seems obsessed with these issues; while \nworking on Mona Lisa, for example, Leonardo was reported to \nbe concentrating on geometry, stating: \"Let no one read me \nwho is not a mathematician.\" \n"
    }
   ],
   "source": [
    "fixedText = \"\"\n",
    "counter = 0\n",
    "words = \"\"\n",
    "with open('passage') as view:\n",
    "    words = view.read().??()\n",
    "\n",
    "# Adding the newline\n",
    "for word in words:\n",
    "    if counter == ??:\n",
    "        fixedText += ??\n",
    "        counter = ??\n",
    "    fixedText += word + ' '\n",
    "    counter += 1\n",
    "print (fixedText)"
   ]
  },
  {
   "cell_type": "markdown",
   "metadata": {},
   "source": [
    "### Question 06\n",
    "Deciding to count the number of unique words in `passage`, remove the punctuations in it excluding apostrophe and add the words as the keys and their number of occurrence as the values into dictionary `wordCount`. The `no_punct` variable is to contain the passage with its punctuations removed and `words` variable to store the words in it."
   ]
  },
  {
   "cell_type": "code",
   "execution_count": null,
   "metadata": {},
   "outputs": [],
   "source": [
    "punctuations = '??'\n",
    "wordCount = {}\n",
    "no_punct = ''\n",
    "\n",
    "# Removing the punctuation\n",
    "with open('passage') as my_str:\n",
    "    for char in my_str.read():\n",
    "       if ?? not in punctuations:\n",
    "           no_punct += ??\n",
    "words = no_punct.??()\n",
    "\n",
    "# Adding the words and their occurrence into wordCount dictionary\n",
    "for word in words:\n",
    "    if ?? in wordCount:\n",
    "        wordCount[??] += 1\n",
    "    else:\n",
    "        wordCount[??] = 1\n",
    "\n",
    "# Printing the word occurrence in wordCount\n",
    "for x, y in wordCount.items():\n",
    "    print(\"Word:\", x, \",\", y)"
   ]
  },
  {
   "cell_type": "markdown",
   "metadata": {},
   "source": [
    "### Question 07\n",
    "Leo has another quote in his mind but he does not have anymore papers to write on and he wants to change the first letter of each word to upper case. Writing the quote to `memoryQuote`, assign the changed quote to `upperQuote` and use it to overwrite `memoryQuote`. Print the changed quote in `memoryQuote` at the end."
   ]
  },
  {
   "cell_type": "code",
   "execution_count": null,
   "metadata": {},
   "outputs": [],
   "source": [
    "import io\n",
    "import string\n",
    "\n",
    "# Writing quote to memoryQuote\n",
    "memoryQuote = io.StringIO()\n",
    "memoryQuote.write(\"Simplicity is the ultimate sophistication.\")\n",
    "\n",
    "# Converting first letter of each word to upper case\n",
    "memoryQuote.seek(??)\n",
    "upperQuote = string.capwords(??)\n",
    "\n",
    "# Overwrite memoryQuote with upperQuote\n",
    "memoryQuote.seek(??)\n",
    "memoryQuote.write(upperQuote)\n",
    "\n",
    "# Printing the changed quote\n",
    "memoryQuote.seek(??)\n",
    "print(memoryQuote.read())"
   ]
  }
 ],
 "metadata": {
  "language_info": {
   "codemirror_mode": {
    "name": "ipython",
    "version": 3
   },
   "file_extension": ".py",
   "mimetype": "text/x-python",
   "name": "python",
   "nbconvert_exporter": "python",
   "pygments_lexer": "ipython3",
   "version": "3.7.4-final"
  },
  "orig_nbformat": 2,
  "kernelspec": {
   "name": "python37432bit1443a571e2a44011aea9ca428963ae61",
   "display_name": "Python 3.7.4 32-bit"
  }
 },
 "nbformat": 4,
 "nbformat_minor": 2
}